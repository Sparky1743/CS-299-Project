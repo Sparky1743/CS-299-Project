{
 "cells": [
  {
   "cell_type": "markdown",
   "id": "6e43df80",
   "metadata": {},
   "source": [
    "# The evaluation of model-1 (wounded model) without scaling"
   ]
  },
  {
   "cell_type": "code",
   "execution_count": 1,
   "id": "cd5deeea",
   "metadata": {},
   "outputs": [],
   "source": [
    "import pandas as pd\n",
    "import numpy as np\n",
    "import matplotlib.pyplot as plt\n",
    "from sklearn.svm import SVC\n",
    "from sklearn.model_selection import train_test_split\n",
    "from sklearn.metrics import accuracy_score"
   ]
  },
  {
   "cell_type": "code",
   "execution_count": 11,
   "id": "560d4586",
   "metadata": {},
   "outputs": [
    {
     "name": "stdout",
     "output_type": "stream",
     "text": [
      "      max_min  final_initial      variance       IQR\n",
      "1    0.173552       0.159892  2.172738e-03  0.039403\n",
      "2    0.116821       0.071959  6.369545e-04  0.036211\n",
      "3    0.191092       0.179022  2.968636e-03  0.053951\n",
      "4    0.187847       0.170960  2.357909e-03  0.039419\n",
      "5    0.148877       0.146101  1.252413e-03  0.041652\n",
      "..        ...            ...           ...       ...\n",
      "96   0.000535      -0.000461  1.256272e-08  0.000111\n",
      "97   0.000388       0.000084  1.102524e-08  0.000191\n",
      "98   0.000729       0.000251  5.959025e-08  0.000483\n",
      "99   0.000695      -0.000377  2.408628e-08  0.000218\n",
      "100  0.000717      -0.000064  5.443226e-08  0.000423\n",
      "\n",
      "[100 rows x 4 columns]\n"
     ]
    }
   ],
   "source": [
    "# x_train\n",
    "x_train = pd.DataFrame(columns=['max_min', 'final_initial', 'variance', 'IQR'])\n",
    "data = {}\n",
    "wound_len = 36\n",
    "for i in range(1, wound_len):\n",
    "    data[i] = abs(pd.read_csv(f'./wounded/wounded_signal_file_{i}.csv'))\n",
    "#     print(data[i])\n",
    "\n",
    "    max_min = data[i]['Wounded Voltage'].max() - data[i]['Wounded Voltage'].min()\n",
    "    final_initial = data[i]['Wounded Voltage'].iloc[499] - data[i]['Wounded Voltage'].iloc[0]\n",
    "    variance = data[i]['Wounded Voltage'].var()\n",
    "#     skewness = data[i]['Wounded Voltage'].skew()\n",
    "    Q3 = np.quantile(data[i]['Wounded Voltage'], 0.75)\n",
    "    Q1 = np.quantile(data[i]['Wounded Voltage'], 0.25)\n",
    "    IQR = Q3 - Q1\n",
    "    \n",
    "    x_train.loc[i] = [max_min, final_initial, variance, IQR]\n",
    "\n",
    "# print(x_train)\n",
    "healthy_len = 66\n",
    "for i in range(1, healthy_len):\n",
    "    data[i] = abs(pd.read_csv(f'./healthy/healthy_signal_file_{i}.csv'))\n",
    "#     print(data[i])\n",
    "\n",
    "    max_min = data[i]['Healthy Voltage'].max() - data[i]['Healthy Voltage'].min()\n",
    "    final_initial = data[i]['Healthy Voltage'].iloc[499] - data[i]['Healthy Voltage'].iloc[0]\n",
    "    variance = data[i]['Healthy Voltage'].var()\n",
    "#     skewness = data[i]['Healthy Voltage'].skew()\n",
    "    Q3 = np.quantile(data[i]['Healthy Voltage'], 0.75)\n",
    "    Q1 = np.quantile(data[i]['Healthy Voltage'], 0.25)\n",
    "    IQR = Q3 - Q1\n",
    "    \n",
    "    x_train.loc[i + wound_len - 1] = [max_min, final_initial, variance, IQR]\n",
    "\n",
    "# plt.plot(data[55]['Healthy Voltage'])\n",
    "print(x_train)"
   ]
  },
  {
   "cell_type": "code",
   "execution_count": 12,
   "id": "919e82e6",
   "metadata": {},
   "outputs": [],
   "source": [
    "x_train.to_csv(f'./xtrain/X_Train_wounded.csv', index=False)"
   ]
  },
  {
   "cell_type": "code",
   "execution_count": 13,
   "id": "dfc6f21d",
   "metadata": {},
   "outputs": [
    {
     "name": "stdout",
     "output_type": "stream",
     "text": [
      "[1.0, 1.0, 1.0, 1.0, 1.0, 1.0, 1.0, 1.0, 1.0, 1.0, 1.0, 1.0, 1.0, 1.0, 1.0, 1.0, 1.0, 1.0, 1.0, 1.0, 1.0, 1.0, 1.0, 1.0, 1.0, 1.0, 1.0, 1.0, 1.0, 1.0, 1.0, 1.0, 1.0, 1.0, 1.0, 0.0, 0.0, 0.0, 0.0, 0.0, 0.0, 0.0, 0.0, 0.0, 0.0, 0.0, 0.0, 0.0, 0.0, 0.0, 0.0, 0.0, 0.0, 0.0, 0.0, 0.0, 0.0, 0.0, 0.0, 0.0, 0.0, 0.0, 0.0, 0.0, 0.0, 0.0, 0.0, 0.0, 0.0, 0.0, 0.0, 0.0, 0.0, 0.0, 0.0, 0.0, 0.0, 0.0, 0.0, 0.0, 0.0, 0.0, 0.0, 0.0, 0.0, 0.0, 0.0, 0.0, 0.0, 0.0, 0.0, 0.0, 0.0, 0.0, 0.0, 0.0, 0.0, 0.0, 0.0, 0.0]\n",
      "100\n"
     ]
    }
   ],
   "source": [
    "y_train = list(np.ones(35)) + list(np.zeros(65))\n",
    "print(y_train)\n",
    "print(len(y_train))\n"
   ]
  },
  {
   "cell_type": "code",
   "execution_count": 14,
   "id": "8aa9319e",
   "metadata": {},
   "outputs": [
    {
     "name": "stdout",
     "output_type": "stream",
     "text": [
      "Accuracy: 0.9500\n",
      "     max_min  final_initial      variance       IQR\n",
      "84  0.038201       0.038201  1.709172e-04  0.025889\n",
      "54  0.000151      -0.000046  2.502430e-09  0.000092\n",
      "71  0.000296      -0.000169  5.571448e-09  0.000088\n",
      "46  0.001959      -0.001828  2.891185e-07  0.000420\n",
      "45  0.001692       0.000375  3.365611e-07  0.001071\n",
      "40  0.002752       0.001541  9.506614e-07  0.001883\n",
      "23  0.156053       0.145062  2.238895e-03  0.070274\n",
      "81  0.040825      -0.036999  2.728352e-04  0.036264\n",
      "11  0.238853       0.238853  4.920478e-03  0.131112\n",
      "1   0.173552       0.159892  2.172738e-03  0.039403\n",
      "19  0.163409       0.163409  2.666265e-03  0.097494\n",
      "31  0.263298       0.263284  4.834517e-03  0.058058\n",
      "74  0.000235       0.000060  4.696560e-09  0.000104\n",
      "34  0.185205       0.136601  2.695624e-03  0.074902\n",
      "91  0.418421       0.414488  1.573150e-02  0.222341\n",
      "5   0.148877       0.146101  1.252413e-03  0.041652\n",
      "77  0.001117      -0.001117  9.537435e-08  0.000529\n",
      "78  0.033682      -0.014839  1.388300e-04  0.023496\n",
      "13  0.133528       0.108326  8.121805e-04  0.013116\n",
      "32  0.245696       0.245696  3.265567e-03  0.066057\n",
      "[0.0, 0.0, 0.0, 0.0, 0.0, 0.0, 1.0, 0.0, 1.0, 1.0, 1.0, 1.0, 0.0, 1.0, 0.0, 1.0, 0.0, 0.0, 1.0, 1.0]\n",
      "[0.0, 0.0, 0.0, 0.0, 0.0, 0.0, 1.0, 0.0, 1.0, 1.0, 1.0, 1.0, 0.0, 1.0, 1.0, 1.0, 0.0, 0.0, 1.0, 1.0]\n"
     ]
    }
   ],
   "source": [
    "X_train, X_test, y_train, y_test = train_test_split(x_train, y_train, test_size=0.2, random_state=42)\n",
    "\n",
    "svm_classifier = SVC(kernel='rbf') \n",
    "\n",
    "svm_classifier.fit(X_train, y_train)\n",
    "\n",
    "y_pred = svm_classifier.predict(X_test)\n",
    "\n",
    "accuracy = accuracy_score(y_test, y_pred)\n",
    "print(f\"Accuracy: {accuracy:.4f}\")\n",
    "print(X_test)\n",
    "print(y_test)\n",
    "print(list(y_pred))"
   ]
  }
 ],
 "metadata": {
  "kernelspec": {
   "display_name": "Python 3 (ipykernel)",
   "language": "python",
   "name": "python3"
  },
  "language_info": {
   "codemirror_mode": {
    "name": "ipython",
    "version": 3
   },
   "file_extension": ".py",
   "mimetype": "text/x-python",
   "name": "python",
   "nbconvert_exporter": "python",
   "pygments_lexer": "ipython3",
   "version": "3.11.1"
  }
 },
 "nbformat": 4,
 "nbformat_minor": 5
}
